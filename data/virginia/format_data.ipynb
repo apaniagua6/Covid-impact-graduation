{
 "cells": [
  {
   "cell_type": "code",
   "execution_count": 1,
   "metadata": {},
   "outputs": [],
   "source": [
    "import os\n",
    "import glob\n",
    "import datetime\n",
    "import pandas as pd\n",
    "\n",
    "valid_columns = [\"State\", \"County\",\"School District\", \"School Name\", \"Grade #\",\t\"School Year\"\t\n",
    "           \"Ethnicity/Race\",\"Economically Disadvantaged\",\t\"ESL\",\t\"Disability\",\t\"Migrant\",\t\n",
    "           \"Student/Teacher Ratio\",\t\"Enrollment Rate\", \"Dropout Rate\", \"Gender\"]\n",
    "\n",
    "#add quarter or month to the valid col?\n",
    "\n",
    "valid_years = list(range(2012,datetime.datetime.today().year))\n",
    "\n",
    "valid_summaries = {\"ss\": \"Statewide Totals\" , \"sr\": \"Statewide Region Totals\", \"so\": \"Statewide County Totals\",\n",
    "\"sd\": \"Statewide District Totals\", \"sc\":\"Statewide Campus Totals\", \"rr\": \"Selected Regionwide Totals\", \"ro\":\"Selected Regionwide County Totals\",\n",
    "\"rd\": \"Selected Regionwide District Totals\", \"rc\": \"Selected Regionwide Campus Totals\", \"oo\":\"Selected Countywide Totals\", \"od\":\"Selected Countywide District Totals\",\n",
    "\"oc\": \"Selected Countywide Campus Totals\", \"id\": \"Selected District Totals using district number\",\n",
    " \"dd\": \"Selected District Totals using district name\", \"ic\":\"Selected Campus Totals using district number\",\n",
    " \"ic\": \"Selected Campus Totals using district number\", \"dc\": \"Selected Campus Totals using district name\",\n",
    " \"nc\": \"Selected Campus Totals using campus number\", \"cc\":\"Selected Campus Totals using campus name\"}\n",
    "\n",
    "valid_groupings = [\"Ethnicity\",  \"Gender\", \"Grade\", \"Gender and Ethnicity\", \"Grade and Ethnicity\", \"Grade and Gender\", \"All\"]\n",
    "\n",
    "disability_mappings = { \"MID\": \"Mild Intellectual Disability\", \"MoID\": \"Moderate Intellectual Disability\", \"SID\":\"Severe Intellectual Disability\", \n",
    "                     \"PID\": \"Profound Intellectual Disability\", \"EBD\" : \"Emotional/Behavioral Disorder\", \"SLD\" : \"Specific Learning Disability\", \n",
    "                     \"OI\" :\"Orthopedic Impairment\", \"D\" :\"Deaf\", \"OHI\" : \"Other Health Impairment\", \"BL\" : \"Blind\", \n",
    "                     \"DB\":\"Deaf and Blind\", \"SI\":\"Speech/Language Impairment\", \"AUT\":\"Autism\", \"TBI\": \"Traumatic Brain Injury\",\"SDD\" :\"Significant Developmental Delay\" }            \n"
   ]
  },
  {
   "cell_type": "code",
   "execution_count": 2,
   "metadata": {},
   "outputs": [
    {
     "name": "stdout",
     "output_type": "stream",
     "text": [
      "Index(['DEC1_CNT', 'Disability', 'Economically Disadvantaged', 'County',\n",
      "       'Ethnicity/Race', 'Gender', 'Grade #', 'School Year', 'State'],\n",
      "      dtype='object')\n"
     ]
    },
    {
     "data": {
      "text/html": [
       "<div>\n",
       "<style scoped>\n",
       "    .dataframe tbody tr th:only-of-type {\n",
       "        vertical-align: middle;\n",
       "    }\n",
       "\n",
       "    .dataframe tbody tr th {\n",
       "        vertical-align: top;\n",
       "    }\n",
       "\n",
       "    .dataframe thead th {\n",
       "        text-align: right;\n",
       "    }\n",
       "</style>\n",
       "<table border=\"1\" class=\"dataframe\">\n",
       "  <thead>\n",
       "    <tr style=\"text-align: right;\">\n",
       "      <th></th>\n",
       "      <th>DEC1_CNT</th>\n",
       "      <th>Disability</th>\n",
       "      <th>Economically Disadvantaged</th>\n",
       "      <th>County</th>\n",
       "      <th>Ethnicity/Race</th>\n",
       "      <th>Gender</th>\n",
       "      <th>Grade #</th>\n",
       "      <th>School Year</th>\n",
       "      <th>State</th>\n",
       "    </tr>\n",
       "  </thead>\n",
       "  <tbody>\n",
       "    <tr>\n",
       "      <th>0</th>\n",
       "      <td>10</td>\n",
       "      <td>Y</td>\n",
       "      <td>Y</td>\n",
       "      <td>Accomack County</td>\n",
       "      <td>3.0</td>\n",
       "      <td>M</td>\n",
       "      <td>01</td>\n",
       "      <td>2019</td>\n",
       "      <td>Virginia</td>\n",
       "    </tr>\n",
       "    <tr>\n",
       "      <th>1</th>\n",
       "      <td>13</td>\n",
       "      <td>Y</td>\n",
       "      <td>NaN</td>\n",
       "      <td>Accomack County</td>\n",
       "      <td>3.0</td>\n",
       "      <td>M</td>\n",
       "      <td>01</td>\n",
       "      <td>2019</td>\n",
       "      <td>Virginia</td>\n",
       "    </tr>\n",
       "    <tr>\n",
       "      <th>2</th>\n",
       "      <td>11</td>\n",
       "      <td>Y</td>\n",
       "      <td>Y</td>\n",
       "      <td>Accomack County</td>\n",
       "      <td>3.0</td>\n",
       "      <td>M</td>\n",
       "      <td>01</td>\n",
       "      <td>2019</td>\n",
       "      <td>Virginia</td>\n",
       "    </tr>\n",
       "    <tr>\n",
       "      <th>3</th>\n",
       "      <td>16</td>\n",
       "      <td>Y</td>\n",
       "      <td>NaN</td>\n",
       "      <td>Accomack County</td>\n",
       "      <td>3.0</td>\n",
       "      <td>M</td>\n",
       "      <td>01</td>\n",
       "      <td>2019</td>\n",
       "      <td>Virginia</td>\n",
       "    </tr>\n",
       "    <tr>\n",
       "      <th>4</th>\n",
       "      <td>14</td>\n",
       "      <td>Y</td>\n",
       "      <td>Y</td>\n",
       "      <td>Accomack County</td>\n",
       "      <td>3.0</td>\n",
       "      <td>NaN</td>\n",
       "      <td>01</td>\n",
       "      <td>2019</td>\n",
       "      <td>Virginia</td>\n",
       "    </tr>\n",
       "  </tbody>\n",
       "</table>\n",
       "</div>"
      ],
      "text/plain": [
       "   DEC1_CNT Disability Economically Disadvantaged            County  \\\n",
       "0        10          Y                          Y  Accomack County    \n",
       "1        13          Y                        NaN  Accomack County    \n",
       "2        11          Y                          Y  Accomack County    \n",
       "3        16          Y                        NaN  Accomack County    \n",
       "4        14          Y                          Y  Accomack County    \n",
       "\n",
       "   Ethnicity/Race Gender Grade #  School Year     State  \n",
       "0             3.0      M      01         2019  Virginia  \n",
       "1             3.0      M      01         2019  Virginia  \n",
       "2             3.0      M      01         2019  Virginia  \n",
       "3             3.0      M      01         2019  Virginia  \n",
       "4             3.0    NaN      01         2019  Virginia  "
      ]
     },
     "execution_count": 2,
     "metadata": {},
     "output_type": "execute_result"
    }
   ],
   "source": [
    "merged_years = []\n",
    "\n",
    "for year in valid_years: \n",
    "    for grouping in [\"All\"]:\n",
    "        datapath = \"{}/{}/{}\".format(year, valid_summaries[\"so\"], grouping)\n",
    "        filenames = glob.glob(os.path.join(datapath, \"*.csv\"))\n",
    "        dfs = list(pd.read_csv(files, low_memory=False, error_bad_lines=False) for files in filenames) \n",
    "        merged_years = pd.concat(dfs, ignore_index=True, sort=True)\n",
    "        \n",
    "merged_years[\"School Year\"] = year\n",
    "merged_years[\"State\"] = \"Virginia\"\n",
    "merged_years.rename(columns={'DIV_NAME':'County'}, inplace = True)\n",
    "\n",
    "merged_years.rename(columns={'GRADE_CODE':'Grade #'}, inplace = True)\n",
    "merged_years.rename(columns={'FEDERAL_RACE_CODE':'Ethnicity/Race'}, inplace = True)\n",
    "merged_years.rename(columns={'DISADVANTAGED_FLAG':'Economically Disadvantaged'}, inplace = True)\n",
    "merged_years.rename(columns={'DISABILITY_FLAG':'Disability'}, inplace = True)\n",
    "merged_years.rename(columns={'GENDER':'Gender'}, inplace = True)\n",
    "\n",
    "# Unused cols: \n",
    "# From schema\n",
    "# valid_columns = [School District\", \"School Name\",\t\t\"ESL\",\t\"Disability\",\t\"Migrant\",\t\n",
    "#            \"Student/Teacher Ratio\",\t\"Enrollment Rate\", \"Dropout Rate\"]\n",
    "# From data: \n",
    "#Index(['DEC1_CNT', 'DIV_NUM','LEP_FLAG','LEVEL_CODE', 'PRIMARY_DISABILITY_TYPE', 'SCHOOL_YEAR', 'SCH_NAME','SCH_NUM'],\n",
    "        \n",
    "merged_years.drop(inplace=True, columns=['DIV_NUM','LEP_FLAG','LEVEL_CODE', 'PRIMARY_DISABILITY_TYPE', 'SCHOOL_YEAR', 'SCH_NAME','SCH_NUM'])\n",
    "\n",
    "print(merged_years.columns)\n",
    "merged_years.head()"
   ]
  },
  {
   "cell_type": "code",
   "execution_count": 3,
   "metadata": {},
   "outputs": [
    {
     "name": "stdout",
     "output_type": "stream",
     "text": [
      "              County  Enrollment Totals\n",
      "0   Accomack County               55391\n",
      "1  Albemarle County              159870\n",
      "2   Alexandria City              155989\n",
      "3  Alleghany County               20230\n",
      "4     Amelia County               13818\n"
     ]
    }
   ],
   "source": [
    "enrollment_sums =  merged_years.groupby('County')['DEC1_CNT'].sum().reset_index(name ='Enrollment Totals')\n",
    "print(enrollment_sums.head())"
   ]
  },
  {
   "cell_type": "code",
   "execution_count": null,
   "metadata": {},
   "outputs": [],
   "source": [
    "#Test: \n",
    "print(enrollment_sums.loc[enrollment_sums['County'] == 'Accomack County ']['Enrollment Totals'].item())"
   ]
  },
  {
   "cell_type": "code",
   "execution_count": null,
   "metadata": {},
   "outputs": [],
   "source": [
    "# # TAKING TOO LONG TO LOAD? \n",
    "# Enrollment Rate = 'DEC1_CNT' / enrollment_sums['County'] \n",
    "# merged_years['Enrollment Rate'] = merged_years.apply(lambda x: x['DEC1_CNT'] / enrollment_sums.loc[enrollment_sums['County'] == x['County']]['Enrollment Totals'].item(), \n",
    "# axis=1) \n",
    "# merged_years.drop(inplace=True, columns=['DEC1_CNT']\n",
    "# print(merged_years.head())"
   ]
  },
  {
   "cell_type": "code",
   "execution_count": null,
   "metadata": {},
   "outputs": [],
   "source": [
    "# Sample Plot by Race : replace with Enrollment Rate once I have that col\n",
    "\n",
    "# df['Race'].groupby('Race').size().plot(title='Enrollment Rate by Race', kind='line')\n",
    "\n",
    "merged_years.groupby('Ethnicity/Race')['DEC1_CNT'].plot(legend=True, title='Enrollment Rate by Race', kind='bar')\n",
    "# merged_years.groupby('Ethnicity/Race')['Enrollment Rate'].plot(legend=True, title='Enrollment Rate by Race', kind='bar')\n"
   ]
  },
  {
   "cell_type": "code",
   "execution_count": null,
   "metadata": {},
   "outputs": [],
   "source": []
  }
 ],
 "metadata": {
  "kernelspec": {
   "display_name": "Python 3",
   "language": "python",
   "name": "python3"
  },
  "language_info": {
   "codemirror_mode": {
    "name": "ipython",
    "version": 3
   },
   "file_extension": ".py",
   "mimetype": "text/x-python",
   "name": "python",
   "nbconvert_exporter": "python",
   "pygments_lexer": "ipython3",
   "version": "3.6.7"
  }
 },
 "nbformat": 4,
 "nbformat_minor": 1
}
