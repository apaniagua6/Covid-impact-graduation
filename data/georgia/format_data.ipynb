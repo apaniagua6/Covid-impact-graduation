{
 "cells": [
  {
   "cell_type": "markdown",
   "metadata": {},
   "source": [
    "# Georgia Student Data\n",
    "School Year:   \n",
    "2012-Present Year"
   ]
  },
  {
   "cell_type": "code",
   "execution_count": 35,
   "metadata": {},
   "outputs": [],
   "source": [
    "import os\n",
    "import glob\n",
    "import datetime\n",
    "import pandas as pd\n",
    "\n",
    "valid_columns = [\"State\", \"County\",\"School District\", \"School Name\", \"Grade #\",\t\"School Year\"\t\n",
    "           \"Ethnicity/Race\",\"Economically Disadvantaged\",\t\"ESL\",\t\"Disability\",\t\"Migrant\",\t\n",
    "           \"Student/Teacher Ratio\",\t\"Enrollment Rate\", \"Dropout Rate\", \"Gender\"]\n",
    "\n",
    "#add quarter or month to the valid col?\n",
    "\n",
    "valid_years = list(range(2012,datetime.datetime.today().year))\n",
    "valid_summaries = {\"ss\": \"Statewide Totals\" , \"sr\": \"Statewide Region Totals\", \"so\": \"Statewide County Totals\",\n",
    "\"sd\": \"Statewide District Totals\", \"sc\":\"Statewide Campus Totals\", \"rr\": \"Selected Regionwide Totals\", \"ro\":\"Selected Regionwide County Totals\",\n",
    "\"rd\": \"Selected Regionwide District Totals\", \"rc\": \"Selected Regionwide Campus Totals\", \"oo\":\"Selected Countywide Totals\", \"od\":\"Selected Countywide District Totals\",\n",
    "\"oc\": \"Selected Countywide Campus Totals\", \"id\": \"Selected District Totals using district number\",\n",
    " \"dd\": \"Selected District Totals using district name\", \"ic\":\"Selected Campus Totals using district number\",\n",
    " \"ic\": \"Selected Campus Totals using district number\", \"dc\": \"Selected Campus Totals using district name\",\n",
    " \"nc\": \"Selected Campus Totals using campus number\", \"cc\":\"Selected Campus Totals using campus name\"}\n",
    "valid_groupings = [\"Ethnicity\",  \"Gender\", \"Grade\", \"Gender and Ethnicity\", \"Grade and Ethnicity\", \"Grade and Gender\"]\n"
   ]
  },
  {
   "cell_type": "markdown",
   "metadata": {},
   "source": [
    "# Enrollment Reports\n",
    "\n",
    "School Year:   \n",
    "2012-Present Year"
   ]
  },
  {
   "cell_type": "code",
   "execution_count": 19,
   "metadata": {},
   "outputs": [
    {
     "name": "stdout",
     "output_type": "stream",
     "text": [
      "Index(['  Ethnic Hispanic', '  Race AmericanIndian', '  Race Asian',\n",
      "       '  Race Black', '  Race Pacific Islander', '  Race White',\n",
      "       '  Two or more Races ', ' Gender', ' System Name', 'State', 'System ID',\n",
      "       'Year'],\n",
      "      dtype='object')\n",
      "\n",
      "\n",
      "Index([' Grade 01', ' Grade PK', ' System Name', ' Total', 'Grade 02',\n",
      "       'Grade 03', 'Grade 04', 'Grade 05', 'Grade 06', 'Grade 07', 'Grade 08',\n",
      "       'Grade 09', 'Grade 10', 'Grade 11', 'Grade 12', 'Grade KK', 'State',\n",
      "       'System ID', 'Year'],\n",
      "      dtype='object')\n",
      "\n",
      "\n",
      "Index(['  BL', '  D', '  DB', '  EBD', '  HH', '  MID', '  MoID', '  OI',\n",
      "       '  PID', '  SDD', '  SI', '  SID', '  SLD', '  TBI', '  VI ', ' AUT',\n",
      "       ' OHI', ' System Name', 'State', 'System ID', 'Year'],\n",
      "      dtype='object')\n"
     ]
    }
   ],
   "source": [
    "all_years = [] \n",
    "\n",
    "#TODO: I overwrote this for testing since the python script is failing to auto generate the \"Gender and Ethnicity\" data\n",
    "valid_years = [2019]\n",
    "\n",
    "for year in valid_years: \n",
    "    df_groups = []\n",
    "    for grouping in [\"Gender and Ethnicity\", \"Grade\", \"Disability\"]:\n",
    "        \n",
    "        datapath = \"{}/{}/{}\".format(year, valid_summaries[\"so\"], grouping)\n",
    "        filenames = glob.glob(os.path.join(datapath, \"*.csv\"))\n",
    "        if(grouping == \"Gender and Ethnicity\"):\n",
    "            dfs = list(pd.read_csv(files, low_memory=False, error_bad_lines=False, skiprows=3) for files in filenames)\n",
    "        else: \n",
    "            dfs = list(pd.read_csv(files, low_memory=False, error_bad_lines=False) for files in filenames) \n",
    "        for df in dfs: \n",
    "            df[\"Year\"] = year\n",
    "            df[\"State\"] = \"Georgia\"\n",
    "        df_groups.append(pd.concat(dfs, ignore_index=True, sort=True))\n",
    "    all_years.append(df_groups)\n",
    "        \n",
    "print(all_years[0][0].keys())\n",
    "print(\"\\n\")\n",
    "print(all_years[0][1].keys())\n",
    "print(\"\\n\")\n",
    "print(all_years[0][2].keys())\n",
    "\n",
    "race_mappings = {'  Ethnic Hispanic': 'Hispanic', '  Race AmericanIndian': 'Native American', '  Race Asian': 'Asian',\n",
    "       '  Race Black': 'Black', '  Race Pacific Islander': 'Pacific Islander', '  Race White': 'White',\n",
    "       '  Two or more Races ': 'Multi-racial'}\n",
    "\n",
    "grade_mappings = { 'Pre-K':' Grade PK','K': 'Grade KK', '01': ' Grade 01', '02':'Grade 02', '03':'Grade 03', '04':'Grade 04',\n",
    "       '05':'Grade 05', '06': 'Grade 06', '07':'Grade 07','08': 'Grade 08','09': 'Grade 09', '10': 'Grade 10',\n",
    "       '11':'Grade 11', '12': 'Grade 12'}\n",
    "\n",
    "disability_mappings = { \"MID\": \"Mild Intellectual Disability\", \"MoID\": \"Moderate Intellectual Disability\", \"SID\":\"Severe Intellectual Disability\", \n",
    "                     \"PID\": \"Profound Intellectual Disability\", \"EBD\" : \"Emotional/Behavioral Disorder\", \"SLD\" : \"Specific Learning Disability\", \n",
    "                     \"OI\" :\"Orthopedic Impairment\", \"D\" :\"Deaf\", \"OHI\" : \"Other Health Impairment\", \"BL\" : \"Blind\", \n",
    "                     \"DB\":\"Deaf and Blind\", \"SI\":\"Speech/Language Impairment\", \"AUT\":\"Autism\", \"TBI\": \"Traumatic Brain Injury\",\"SDD\" :\"Significant Developmental Delay\" }            \n"
   ]
  },
  {
   "cell_type": "code",
   "execution_count": 17,
   "metadata": {},
   "outputs": [
    {
     "name": "stdout",
     "output_type": "stream",
     "text": [
      "                            System ID              \n",
      " Gender                        Female   Male  Total\n",
      " System Name           Year                        \n",
      "Appling County         2019     601.0  601.0  601.0\n",
      "Atkinson County        2019     602.0  602.0  602.0\n",
      "Atlanta Public Schools 2019     761.0  761.0  761.0\n",
      "Bacon County           2019     603.0  603.0  603.0\n",
      "Baker County           2019     604.0  604.0  604.0\n"
     ]
    }
   ],
   "source": [
    "gender_pivot = pd.pivot_table(all_years[0][0],index=[' System Name', 'Year'], columns=[' Gender'])\n",
    "print(gender_pivot.head())"
   ]
  },
  {
   "cell_type": "code",
   "execution_count": 11,
   "metadata": {},
   "outputs": [
    {
     "name": "stdout",
     "output_type": "stream",
     "text": [
      "                                                                                            System ID\n",
      " System Name   Year   Race Black   Race Pacific Islander   Race White   Two or more Races            \n",
      "Appling County 2019 396          *                       995          63                        601.0\n",
      "                    397          *                       980          66                        601.0\n",
      "                    405          *                       1057         68                        601.0\n",
      "                    413          *                       1045         68                        601.0\n",
      "                    801          *                       2052         131                       601.0\n"
     ]
    }
   ],
   "source": [
    "ethnicity_pivot = pd.pivot_table(all_years[0][0],index=[' System Name', 'Year','  Race Black', '  Race Pacific Islander', '  Race White', '  Two or more Races '])\n",
    "print(ethnicity_pivot.head())"
   ]
  },
  {
   "cell_type": "code",
   "execution_count": 12,
   "metadata": {},
   "outputs": [
    {
     "name": "stdout",
     "output_type": "stream",
     "text": [
      "                              Grade 01   Grade PK    Total  Grade 02  \\\n",
      " System Name           Year                                            \n",
      "Appling County         2019      283.5      224.5   3580.0     227.0   \n",
      "Atkinson County        2019      116.5      111.5   1697.0     127.0   \n",
      "Atlanta Public Schools 2019     4588.5     1395.0  52180.0    4557.5   \n",
      "Bacon County           2019      170.0       93.5   2143.0     144.0   \n",
      "Baker County           2019       28.5       10.5    280.0      19.0   \n",
      "\n",
      "                             Grade 03  Grade 04  Grade 05  Grade 06  Grade 07  \\\n",
      " System Name           Year                                                     \n",
      "Appling County         2019     257.0     276.5     292.5     270.5     262.0   \n",
      "Atkinson County        2019     120.5     126.0     124.5     127.5     129.5   \n",
      "Atlanta Public Schools 2019    4651.0    4677.5    4481.0    4001.5    3650.5   \n",
      "Bacon County           2019     160.5     148.5     185.0     161.5     175.0   \n",
      "Baker County           2019      19.5      24.0      20.0      18.5      23.5   \n",
      "\n",
      "                             Grade 08  Grade 09  Grade 10  Grade 11  Grade 12  \\\n",
      " System Name           Year                                                     \n",
      "Appling County         2019     266.5     267.0     261.0     209.5     219.5   \n",
      "Atkinson County        2019     118.5     119.0     122.5     126.0     109.5   \n",
      "Atlanta Public Schools 2019    3487.5    3750.5    3023.0    2792.0    2637.0   \n",
      "Bacon County           2019     158.0     169.0     153.0     124.5     142.5   \n",
      "Baker County           2019      22.5      21.5      24.0       8.0      23.5   \n",
      "\n",
      "                             Grade KK  \n",
      " System Name           Year            \n",
      "Appling County         2019     263.0  \n",
      "Atkinson County        2019     118.5  \n",
      "Atlanta Public Schools 2019    4487.5  \n",
      "Bacon County           2019     158.0  \n",
      "Baker County           2019      17.0  \n"
     ]
    }
   ],
   "source": [
    "grade_pivot = pd.pivot_table(all_years[0][1],index=[' System Name', 'Year'])\n",
    "print(grade_pivot.head())"
   ]
  },
  {
   "cell_type": "code",
   "execution_count": 20,
   "metadata": {},
   "outputs": [
    {
     "name": "stdout",
     "output_type": "stream",
     "text": [
      "    BL   D   DB   EBD   HH   MID   MoID   OI   PID   SDD  ...    SID   SLD  \\\n",
      "0    *   *    *    35    *    21     13    *     *    91  ...      *   138   \n",
      "1    *   *    *     *    *     *      *    *     *    34  ...      *    94   \n",
      "2    *  20    *   358    *   384    122   11     *   535  ...     25  2237   \n",
      "3    *   *    *     *    *     *     10    *     *    43  ...      *   107   \n",
      "4    *   *    *     *    *     *      *    *     *     *  ...      *    18   \n",
      "\n",
      "    TBI   VI   AUT  OHI             System Name    State System ID  Year  \n",
      "0     *     *   23   53          Appling County  Georgia       601  2019  \n",
      "1     *     *    *   38         Atkinson County  Georgia       602  2019  \n",
      "2    19    12  669  898  Atlanta Public Schools  Georgia       761  2019  \n",
      "3     *     *   19   47            Bacon County  Georgia       603  2019  \n",
      "4     *     *    *    *            Baker County  Georgia       604  2019  \n",
      "\n",
      "[5 rows x 21 columns]\n"
     ]
    }
   ],
   "source": [
    "disabled_df= all_years[0][2]\n",
    "print(disabled_df.head())"
   ]
  },
  {
   "cell_type": "code",
   "execution_count": 32,
   "metadata": {},
   "outputs": [
    {
     "name": "stdout",
     "output_type": "stream",
     "text": [
      "(2768, 46) (1287, 12) (428, 19) (213, 21)\n",
      "Index(['  Ethnic Hispanic', '  Race AmericanIndian', '  Race Asian',\n",
      "       '  Race Black', '  Race Pacific Islander', '  Race White',\n",
      "       '  Two or more Races ', ' Gender', 'County', 'State', 'System ID',\n",
      "       'Year', ' Grade 01', ' Grade PK', ' Total', 'Grade 02', 'Grade 03',\n",
      "       'Grade 04', 'Grade 05', 'Grade 06', 'Grade 07', 'Grade 08', 'Grade 09',\n",
      "       'Grade 10', 'Grade 11', 'Grade 12', 'Grade KK', 'System ID_x', '  BL',\n",
      "       '  D', '  DB', '  EBD', '  HH', '  MID', '  MoID', '  OI', '  PID',\n",
      "       '  SDD', '  SI', '  SID', '  SLD', '  TBI', '  VI ', ' AUT', ' OHI',\n",
      "       'System ID_y'],\n",
      "      dtype='object')\n",
      "      Ethnic Hispanic   Race AmericanIndian   Race Asian   Race Black  \\\n",
      "708              7175                    58         5313        19643   \n",
      "709              7175                    58         5313        19643   \n",
      "710              7379                    59         5597        19917   \n",
      "711              7379                    59         5597        19917   \n",
      "712             14554                   117        10910        39560   \n",
      "\n",
      "      Race Pacific Islander   Race White   Two or more Races   Gender  \\\n",
      "708                      35        12819                 1430  Female   \n",
      "709                      35        12819                 1430  Female   \n",
      "710                      24        13607                 1435    Male   \n",
      "711                      24        13607                 1435    Male   \n",
      "712                      59        26426                 2865   Total   \n",
      "\n",
      "            County    State     ...         PID    SDD    SI    SID    SLD  \\\n",
      "708  Fulton County  Georgia     ...           *   1015  1136     56   3499   \n",
      "709  Fulton County  Georgia     ...           *   1015  1136     56   3499   \n",
      "710  Fulton County  Georgia     ...           *   1015  1136     56   3499   \n",
      "711  Fulton County  Georgia     ...           *   1015  1136     56   3499   \n",
      "712  Fulton County  Georgia     ...           *   1015  1136     56   3499   \n",
      "\n",
      "       TBI    VI    AUT   OHI  System ID_y  \n",
      "708     19     17  1232  1416          660  \n",
      "709     19     17  1232  1416          660  \n",
      "710     19     17  1232  1416          660  \n",
      "711     19     17  1232  1416          660  \n",
      "712     19     17  1232  1416          660  \n",
      "\n",
      "[5 rows x 46 columns]\n"
     ]
    }
   ],
   "source": [
    "#TODO: multiply by percentages to get actual total -> need another data set & delette dupes \n",
    "merged = all_years[0][0].merge((all_years[0][1].merge(right=all_years[0][2], on=[' System Name', 'State', 'Year'] )), on=[' System Name', 'State', 'Year'])\n",
    "merged.rename(columns={' System Name':'County'}, inplace = True)\n",
    "merged= merged.drop_duplicates()\n",
    "print(merged.shape, all_years[0][0].shape, all_years[0][1].shape, all_years[0][2].shape)\n",
    "print(merged.columns)\n",
    "# print all columns of example county\n",
    "print(merged.loc[merged['County']=='Fulton County', :].head())"
   ]
  },
  {
   "cell_type": "code",
   "execution_count": 34,
   "metadata": {},
   "outputs": [],
   "source": [
    "# for col in race_cols: \n",
    "# for each county: \n",
    "# for Female & Male: (df[\"col\"] where gender == gender).value * df[col][row].value\n",
    "# after inner loop: delete entire "
   ]
  },
  {
   "cell_type": "code",
   "execution_count": null,
   "metadata": {},
   "outputs": [],
   "source": []
  }
 ],
 "metadata": {
  "kernelspec": {
   "display_name": "Python 3",
   "language": "python",
   "name": "python3"
  },
  "language_info": {
   "codemirror_mode": {
    "name": "ipython",
    "version": 3
   },
   "file_extension": ".py",
   "mimetype": "text/x-python",
   "name": "python",
   "nbconvert_exporter": "python",
   "pygments_lexer": "ipython3",
   "version": "3.6.7"
  }
 },
 "nbformat": 4,
 "nbformat_minor": 1
}
