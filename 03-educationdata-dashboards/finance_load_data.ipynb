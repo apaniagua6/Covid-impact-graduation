{
 "cells": [
  {
   "cell_type": "markdown",
   "metadata": {},
   "source": [
    "# Question 1: What is each states’ instructional spend (y) from 2009-2016 (x)?\n",
    "### Line graph of regional (S, MW, NE, W) spend for 50 states & DC \n",
    "o   Phase 1: Normalize as a ratio starting from the first year (2009)  \n",
    "o   Phase 2: Nominal or actual spend dollars – does it account for inflation?\n",
    "\n",
    "**Goal:** a) Figure out states that are outliers in terms of funding over the years b) Figure out which states improved in funding over the years"
   ]
  },
  {
   "cell_type": "code",
   "execution_count": null,
   "metadata": {},
   "outputs": [],
   "source": [
    "'''\n",
    "Load the finance data and import all necessary libraries  \n",
    "'''\n",
    "import random\n",
    "import seaborn as sns\n",
    "\n",
    "import matplotlib.pyplot as plt\n",
    "import numpy as np\n",
    "import pandas as pd\n",
    "\n",
    "from functools import reduce\n",
    "\n",
    "valid_regions = [\"Northeast\", \"South\", \"West\", \"Midwest\"]\n",
    "valid_years = [\"2009\", \"2010\", \"2011\", \"2012\", \"2013\", \"2014\", \"2015\", \"2016\"]\n",
    "valid_cols = [\"rev_total\", \"state_name\", \"region\",\"year\", 'exp_current_instruction_total']\n",
    "\n",
    "finance_df = pd.read_csv('finance_data/districts_ccd_finance.csv.zip', low_memory=False)\n",
    "finance_df.head()"
   ]
  },
  {
   "cell_type": "code",
   "execution_count": null,
   "metadata": {},
   "outputs": [],
   "source": [
    "'''\n",
    "Map geographic data (region, state) to finance data &  drop NaN rows. \n",
    "'''\n",
    "\n",
    "value_mappings = pd.read_excel(open('finance_data/codebook_districts_ccd_finance.xls', 'rb'), sheet_name='values')\n",
    "\n",
    "fips_states = value_mappings[value_mappings[\"format\"] == \"fips\"].set_index('code').code_label.to_dict()\n",
    "finance_df[\"state_name\"] = finance_df[\"fips\"].map(fips_states)\n",
    "\n",
    "fips_regions = value_mappings[value_mappings[\"format\"] == \"fips\"].set_index('code').region.to_dict()\n",
    "finance_df[\"region\"] = finance_df[\"fips\"].map(fips_regions)\n",
    "\n",
    "finance_df = finance_df[finance_df.year >= 2009 ]\n",
    "#TODO: drop all NaN or just those whose regions are NaN?\n",
    "finance_df.dropna(subset=valid_cols, inplace=True)\n",
    "\n",
    "finance_df.head()"
   ]
  },
  {
   "cell_type": "code",
   "execution_count": null,
   "metadata": {},
   "outputs": [],
   "source": [
    "'''\n",
    "Clean Up Unused Cols and group by state_name, year and total revenue  \n",
    "'''\n",
    "\n",
    "revenue_df = finance_df.filter(valid_cols, axis=1).groupby(['state_name', \"year\", \"region\"])[\"rev_total\"].sum().reset_index(name=\"total\")\n",
    "revenue_df.head()"
   ]
  },
  {
   "cell_type": "code",
   "execution_count": null,
   "metadata": {},
   "outputs": [],
   "source": [
    "'''\n",
    "Clean Up Unused Cols and group by state_name, year and total expidenture \n",
    "'''\n",
    "expidenture_df = finance_df.filter(valid_cols, axis=1).groupby(['state_name', \"year\", \"region\"])[\"exp_current_instruction_total\"].sum().reset_index(name=\"total\")\n",
    "#.reset_index(\"total_spend\")\n",
    "expidenture_df.head()"
   ]
  },
  {
   "cell_type": "markdown",
   "metadata": {},
   "source": [
    "# Method to Plot Financial Data for Given States (plt)"
   ]
  },
  {
   "cell_type": "code",
   "execution_count": null,
   "metadata": {},
   "outputs": [],
   "source": [
    "'''Create Method to plot finances for a group of given states over given year for states '''\n",
    "#TODO: pass name of column that has the values to sum, pass transformation_lambda \n",
    "\n",
    "def plot_finances_as_ratio_of_year_one_plt(df, states, years, title=\"\", region=\"\"): \n",
    "    \n",
    "    data = df[df.state_name.isin(states)]\n",
    "    \n",
    "    colors = [\"#\"+''.join([random.choice('0123456789ABCDEF') for j in range(6)]) for i in range(len(states))]\n",
    "    fig, ax = plt.subplots()\n",
    "    \n",
    "    for i in range(len(states)):\n",
    "        curr_state = states[i]\n",
    "        curr_totals = data.loc[data['state_name']== curr_state ]['total']\n",
    "        starting_total =  curr_totals.iloc[0]\n",
    "\n",
    "        normalized_totals = np.array([x/starting_total for x in curr_totals])\n",
    "\n",
    "        if(len(curr_totals) != len(years)):\n",
    "            print(\"Missing some data for state: \", curr_state, \" . Skipping...\")\n",
    "        else:\n",
    "            x , y =  years, normalized_totals\n",
    "            plt.scatter(x, y, c=colors[i], label=curr_state, alpha=1, edgecolors='none')\n",
    "            plt.plot(x, y)\n",
    "\n",
    "    ax.legend(title='States', bbox_to_anchor=(1, 1), fancybox=True, framealpha=1, shadow=True, borderpad=1)\n",
    "    ax.grid(True)\n",
    "    \n",
    "    plt.title('{} By State Over Time As Ratio of Year 1 for the {}'.format(title, region))\n",
    "    plt.xlabel('Years', fontsize=12)\n",
    "    plt.ylabel('Normalized Total Expidenture', fontsize=12)\n",
    "    plt.xticks(np.arange(np.min(years), np.max(years)+1, 1))\n",
    "\n",
    "    plt.show()"
   ]
  },
  {
   "cell_type": "markdown",
   "metadata": {},
   "source": [
    "# Method to Plot Financial Data for Given States (sns)"
   ]
  },
  {
   "cell_type": "code",
   "execution_count": null,
   "metadata": {},
   "outputs": [],
   "source": [
    "'''Define method for seaborn'''\n",
    "#TODO: pass name of column that has the values to sum, pass transformation_lambda \n",
    "\n",
    "def plot_finances_as_ratio_of_year_one_sns(df, states, years, title_name, region=None): \n",
    "    \n",
    "    data = df[df.state_name.isin(states)]\n",
    "    \n",
    "    fig, ax = plt.subplots()\n",
    "\n",
    "    for state in states:\n",
    "                \n",
    "        curr_total_expidentures = data.loc[data['state_name'] == state]['total']\n",
    "        starting_expidenture =  curr_total_expidentures.iloc[0]\n",
    "    \n",
    "        data['total'].loc[data['state_name'] == state] = curr_total_expidentures.apply(lambda x: x/starting_expidenture)\n",
    "\n",
    "    sns.lineplot(data=data, x='year', y='total', hue='state_name',  size=4, legend='brief')\n",
    "    ax.legend(bbox_to_anchor=(1,1), fancybox=True, framealpha=1, shadow=True, borderpad=1)\n",
    "\n",
    "    title = '{} By State Over Time As Ratio of Year 1 for the {}'.format(title_name, region) if region else '{} By State Over Time As Ratio of Year 1'.format(title)\n",
    "    fig.suptitle('{} By State Over Time As Ratio of Year 1 for the {}'.format(title_name, region), fontsize=16)\n",
    "    plt.show()"
   ]
  },
  {
   "cell_type": "markdown",
   "metadata": {},
   "source": [
    "# Method to Plot Financial Data for Individual State (plt)"
   ]
  },
  {
   "cell_type": "code",
   "execution_count": null,
   "metadata": {},
   "outputs": [],
   "source": [
    "def plot_individual_state_as_ratio_of_year_one_plt(df, curr_state, years, title, region=None):\n",
    "    fig, ax = plt.subplots()\n",
    "    \n",
    "    curr_totals = df.loc[df['state_name']== curr_state ]['total']\n",
    "    starting_total =  curr_totals.iloc[0]\n",
    "\n",
    "    normalized_totals = np.array([x/starting_total for x in curr_totals])\n",
    "\n",
    "    if(len(curr_totals) != len(years)):\n",
    "        print(\"Missing some data for state: \", curr_state, \" . Skipping...\")\n",
    "    else:\n",
    "        x , y =  years, normalized_totals\n",
    "        plt.scatter(x, y, label=curr_state, alpha=1, edgecolors='none')\n",
    "        plt.plot(x, y)\n",
    "\n",
    "    ax.legend(title='States', bbox_to_anchor=(1, 1), fancybox=True, framealpha=1, shadow=True, borderpad=1)\n",
    "    ax.grid(True)\n",
    "    \n",
    "    plt.title('{} Over Time As Ratio of Year 1 for {}'.format(title, curr_state))\n",
    "    plt.xlabel('Years', fontsize=12)\n",
    "    plt.ylabel('Normalized Total {}'.format(title), fontsize=12)\n",
    "    plt.xticks(np.arange(np.min(years), np.max(years)+1, 1))\n",
    "\n",
    "    plt.show()"
   ]
  },
  {
   "cell_type": "markdown",
   "metadata": {},
   "source": [
    "# Method to Plot Financial Data Regression for Individual State (sns)"
   ]
  },
  {
   "cell_type": "code",
   "execution_count": null,
   "metadata": {},
   "outputs": [],
   "source": [
    "def plot_individual_state_financial_data_regression_sns(df, curr_state, years, title, region=None):\n",
    "\n",
    "    data = df.loc[df['state_name']== curr_state ]\n",
    "    title = \"Linear Regresssion of {}'s {}\".format(state, title)\n",
    "    \n",
    "    sns.regplot(data=data, scatter=True, x=\"year\", y=\"total\").set_title(title)\n",
    "    plt.show()"
   ]
  },
  {
   "cell_type": "markdown",
   "metadata": {},
   "source": [
    "# Expidenture Data (State by State - plt)"
   ]
  },
  {
   "cell_type": "code",
   "execution_count": null,
   "metadata": {},
   "outputs": [],
   "source": [
    "'''\n",
    "Plot the total expidenture (fed, state, local) for all states by year starting at 1.0 for Year 1 (2019)\n",
    "'''\n",
    "states = expidenture_df['state_name'].unique()\n",
    "years = expidenture_df['year'].unique()\n",
    "\n",
    "plot_finances_as_ratio_of_year_one_plt(expidenture_df, states, years, \"Expidenture\")"
   ]
  },
  {
   "cell_type": "markdown",
   "metadata": {},
   "source": [
    "# Expidenture Data (Region By Region - plt)"
   ]
  },
  {
   "cell_type": "code",
   "execution_count": null,
   "metadata": {},
   "outputs": [],
   "source": [
    "'''\n",
    "Plot the total expidenture (fed, state, local) for all states by year starting at 1.0 for Year 1 (2019)\n",
    "'''\n",
    "\n",
    "for region in expidenture_df['region'].unique(): \n",
    "    \n",
    "    states = expidenture_df.loc[expidenture_df['region'] == region]['state_name'].unique()\n",
    "    years = expidenture_df['year'].unique()\n",
    "    plot_finances_as_ratio_of_year_one_plt(expidenture_df, states, years, \"Expidenture\", region)"
   ]
  },
  {
   "cell_type": "code",
   "execution_count": null,
   "metadata": {},
   "outputs": [],
   "source": [
    "'''\n",
    "Plot the total expidenture(fed, state, local) for all states by year starting at 1.0 for Year 1 (2019)\n",
    "'''\n",
    "\n",
    "for region in expidenture_df['region'].unique(): \n",
    "\n",
    "    states = expidenture_df.loc[expidenture_df['region'] == region]['state_name'].unique()\n",
    "    years = expidenture_df['year'].unique()   \n",
    "    title_name= 'Revenue'   \n",
    "    \n",
    "    plot_finances_as_ratio_of_year_one_sns(expidenture_df, states, years, title_name, region)"
   ]
  },
  {
   "cell_type": "markdown",
   "metadata": {},
   "source": [
    "# Expidenture Outliers"
   ]
  },
  {
   "cell_type": "markdown",
   "metadata": {},
   "source": [
    "**Massachusetts**: expidenture dips in 2012. \n",
    "\n",
    "**Alaska**: expidenture peaks at 2014 then dip after. Maybe related to: https://en.wikipedia.org/wiki/Alaska_Permanent_Fund individual payments (inverse relationship). \n",
    "\n",
    "**# TODO: look at district by district level changes & plot a regression of that data**"
   ]
  },
  {
   "cell_type": "code",
   "execution_count": null,
   "metadata": {},
   "outputs": [],
   "source": [
    "years = expidenture_df['year'].unique()\n",
    "title = \"Expidenture\"\n",
    "state = \"Alaska\"\n",
    "region= \"West\"\n",
    "\n",
    "plot_individual_state_as_ratio_of_year_one_plt(expidenture_df, state, years, title, region=region)\n",
    "plot_individual_state_financial_data_regression_sns(expidenture_df, state, years, title, region=None)\n"
   ]
  },
  {
   "cell_type": "code",
   "execution_count": null,
   "metadata": {},
   "outputs": [],
   "source": [
    "years = expidenture_df['year'].unique()\n",
    "title = \"Expidenture\"\n",
    "state = \"Massachusetts\"\n",
    "region= \"Northeast\"\n",
    "\n",
    "plot_individual_state_as_ratio_of_year_one_plt(expidenture_df, state, years, title, region=region)\n",
    "\n",
    "plot_individual_state_financial_data_regression_sns(expidenture_df, state, years, title, region=region)"
   ]
  },
  {
   "cell_type": "markdown",
   "metadata": {},
   "source": [
    "# Revenue Data"
   ]
  },
  {
   "cell_type": "markdown",
   "metadata": {},
   "source": [
    "# Revenue Data (State by State - plt)"
   ]
  },
  {
   "cell_type": "code",
   "execution_count": null,
   "metadata": {},
   "outputs": [],
   "source": [
    "'''\n",
    "Plot the total revenue (fed, state, local) for all states by year starting at 1.0 for Year 1 (2019)\n",
    "'''\n",
    "states = revenue_df['state_name'].unique()\n",
    "years = revenue_df['year'].unique()\n",
    "\n",
    "plot_finances_as_ratio_of_year_one_plt(revenue_df, states, years, \"Revenue\")"
   ]
  },
  {
   "cell_type": "markdown",
   "metadata": {},
   "source": [
    "# Revenue Data (Region By Region - plt)"
   ]
  },
  {
   "cell_type": "code",
   "execution_count": null,
   "metadata": {},
   "outputs": [],
   "source": [
    "'''\n",
    "Plot the total revenue (fed, state, local) for all states by year starting at 1.0 for Year 1 (2019)\n",
    "'''\n",
    "\n",
    "for region in revenue_df['region'].unique(): \n",
    "\n",
    "    states = revenue_df.loc[revenue_df['region'] == region]['state_name'].unique()\n",
    "    years = revenue_df['year'].unique()\n",
    "    plot_finances_as_ratio_of_year_one_plt(revenue_df, states, years, \"Revenue\", region)"
   ]
  },
  {
   "cell_type": "markdown",
   "metadata": {},
   "source": [
    "# Revenue Data (Region By Region - sns)"
   ]
  },
  {
   "cell_type": "code",
   "execution_count": null,
   "metadata": {},
   "outputs": [],
   "source": [
    "'''\n",
    "Plot the total revenue (fed, state, local) for all states by year starting at 1.0 for Year 1 (2019)\n",
    "'''\n",
    "\n",
    "for region in revenue_df['region'].unique(): \n",
    "\n",
    "    states = revenue_df.loc[revenue_df['region'] == region]['state_name'].unique()\n",
    "    years = revenue_df['year'].unique()   \n",
    "    title_name= 'Revenue'   \n",
    "    \n",
    "    plot_finances_as_ratio_of_year_one_sns(revenue_df, states, years, title_name, region)"
   ]
  }
 ],
 "metadata": {
  "kernelspec": {
   "display_name": "Python 3",
   "language": "python",
   "name": "python3"
  },
  "language_info": {
   "codemirror_mode": {
    "name": "ipython",
    "version": 3
   },
   "file_extension": ".py",
   "mimetype": "text/x-python",
   "name": "python",
   "nbconvert_exporter": "python",
   "pygments_lexer": "ipython3",
   "version": "3.6.7"
  }
 },
 "nbformat": 4,
 "nbformat_minor": 2
}
